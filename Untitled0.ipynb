{
  "nbformat": 4,
  "nbformat_minor": 0,
  "metadata": {
    "colab": {
      "provenance": [],
      "toc_visible": true,
      "authorship_tag": "ABX9TyOK+OGtU/Az5teOIxI8q9Cm",
      "include_colab_link": true
    },
    "kernelspec": {
      "name": "python3",
      "display_name": "Python 3"
    },
    "language_info": {
      "name": "python"
    }
  },
  "cells": [
    {
      "cell_type": "markdown",
      "metadata": {
        "id": "view-in-github",
        "colab_type": "text"
      },
      "source": [
        "<a href=\"https://colab.research.google.com/github/Jalligampalaveerababu/veerababu/blob/main/Untitled0.ipynb\" target=\"_parent\"><img src=\"https://colab.research.google.com/assets/colab-badge.svg\" alt=\"Open In Colab\"/></a>"
      ]
    },
    {
      "cell_type": "code",
      "execution_count": 7,
      "metadata": {
        "id": "AZyuY7UodRk9"
      },
      "outputs": [],
      "source": [
        "import pandas as pd\n",
        "import seaborn as sns  # Only needed for loading Titanic dataset\n",
        "from google.colab import files  # For uploading a file"
      ]
    },
    {
      "cell_type": "code",
      "source": [
        "\n",
        "df = sns.load_dataset(\"titanic\")\n",
        "print(\"🔹 First 5 Rows (head()):\")\n",
        "print(df.head())\n",
        "\n",
        "print(\"\\n🔹 Last 5 Rows (tail()):\")\n",
        "print(df.tail())\n",
        "\n",
        "print(\"\\n🔹 Summary Statistics (describe()):\")\n",
        "print(df.describe())\n",
        "\n",
        "print(\"\\n🔹 Shape of Dataset (shape):\")\n",
        "print(df.shape)\n",
        "\n",
        "print(\"\\n🔹 Dataset Info (info()):\")\n",
        "df.info()\n",
        "\n",
        "print(\"\\n🔹 Column Names:\")"
      ],
      "metadata": {
        "colab": {
          "base_uri": "https://localhost:8080/"
        },
        "id": "U3ZZy8cde_Al",
        "outputId": "e5743af7-e1ad-4bb8-ac8d-e674b4bcc976"
      },
      "execution_count": 10,
      "outputs": [
        {
          "output_type": "stream",
          "name": "stdout",
          "text": [
            "🔹 First 5 Rows (head()):\n",
            "   survived  pclass     sex   age  sibsp  parch     fare embarked  class  \\\n",
            "0         0       3    male  22.0      1      0   7.2500        S  Third   \n",
            "1         1       1  female  38.0      1      0  71.2833        C  First   \n",
            "2         1       3  female  26.0      0      0   7.9250        S  Third   \n",
            "3         1       1  female  35.0      1      0  53.1000        S  First   \n",
            "4         0       3    male  35.0      0      0   8.0500        S  Third   \n",
            "\n",
            "     who  adult_male deck  embark_town alive  alone  \n",
            "0    man        True  NaN  Southampton    no  False  \n",
            "1  woman       False    C    Cherbourg   yes  False  \n",
            "2  woman       False  NaN  Southampton   yes   True  \n",
            "3  woman       False    C  Southampton   yes  False  \n",
            "4    man        True  NaN  Southampton    no   True  \n",
            "\n",
            "🔹 Last 5 Rows (tail()):\n",
            "     survived  pclass     sex   age  sibsp  parch   fare embarked   class  \\\n",
            "886         0       2    male  27.0      0      0  13.00        S  Second   \n",
            "887         1       1  female  19.0      0      0  30.00        S   First   \n",
            "888         0       3  female   NaN      1      2  23.45        S   Third   \n",
            "889         1       1    male  26.0      0      0  30.00        C   First   \n",
            "890         0       3    male  32.0      0      0   7.75        Q   Third   \n",
            "\n",
            "       who  adult_male deck  embark_town alive  alone  \n",
            "886    man        True  NaN  Southampton    no   True  \n",
            "887  woman       False    B  Southampton   yes   True  \n",
            "888  woman       False  NaN  Southampton    no  False  \n",
            "889    man        True    C    Cherbourg   yes   True  \n",
            "890    man        True  NaN   Queenstown    no   True  \n",
            "\n",
            "🔹 Summary Statistics (describe()):\n",
            "         survived      pclass         age       sibsp       parch        fare\n",
            "count  891.000000  891.000000  714.000000  891.000000  891.000000  891.000000\n",
            "mean     0.383838    2.308642   29.699118    0.523008    0.381594   32.204208\n",
            "std      0.486592    0.836071   14.526497    1.102743    0.806057   49.693429\n",
            "min      0.000000    1.000000    0.420000    0.000000    0.000000    0.000000\n",
            "25%      0.000000    2.000000   20.125000    0.000000    0.000000    7.910400\n",
            "50%      0.000000    3.000000   28.000000    0.000000    0.000000   14.454200\n",
            "75%      1.000000    3.000000   38.000000    1.000000    0.000000   31.000000\n",
            "max      1.000000    3.000000   80.000000    8.000000    6.000000  512.329200\n",
            "\n",
            "🔹 Shape of Dataset (shape):\n",
            "(891, 15)\n",
            "\n",
            "🔹 Dataset Info (info()):\n",
            "<class 'pandas.core.frame.DataFrame'>\n",
            "RangeIndex: 891 entries, 0 to 890\n",
            "Data columns (total 15 columns):\n",
            " #   Column       Non-Null Count  Dtype   \n",
            "---  ------       --------------  -----   \n",
            " 0   survived     891 non-null    int64   \n",
            " 1   pclass       891 non-null    int64   \n",
            " 2   sex          891 non-null    object  \n",
            " 3   age          714 non-null    float64 \n",
            " 4   sibsp        891 non-null    int64   \n",
            " 5   parch        891 non-null    int64   \n",
            " 6   fare         891 non-null    float64 \n",
            " 7   embarked     889 non-null    object  \n",
            " 8   class        891 non-null    category\n",
            " 9   who          891 non-null    object  \n",
            " 10  adult_male   891 non-null    bool    \n",
            " 11  deck         203 non-null    category\n",
            " 12  embark_town  889 non-null    object  \n",
            " 13  alive        891 non-null    object  \n",
            " 14  alone        891 non-null    bool    \n",
            "dtypes: bool(2), category(2), float64(2), int64(4), object(5)\n",
            "memory usage: 80.7+ KB\n",
            "\n",
            "🔹 Column Names:\n"
          ]
        }
      ]
    }
  ]
}